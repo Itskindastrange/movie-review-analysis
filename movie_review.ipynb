{
  "nbformat": 4,
  "nbformat_minor": 0,
  "metadata": {
    "colab": {
      "provenance": [],
      "authorship_tag": "ABX9TyN+bHHC5XyeBn4nJqkKl9Be",
      "include_colab_link": true
    },
    "kernelspec": {
      "name": "python3",
      "display_name": "Python 3"
    },
    "language_info": {
      "name": "python"
    }
  },
  "cells": [
    {
      "cell_type": "markdown",
      "metadata": {
        "id": "view-in-github",
        "colab_type": "text"
      },
      "source": [
        "<a href=\"https://colab.research.google.com/github/Itskindastrange/movie-review-analysis/blob/main/movie_review.ipynb\" target=\"_parent\"><img src=\"https://colab.research.google.com/assets/colab-badge.svg\" alt=\"Open In Colab\"/></a>"
      ]
    },
    {
      "cell_type": "code",
      "execution_count": 1,
      "metadata": {
        "id": "T-3Slux3dWky"
      },
      "outputs": [],
      "source": [
        "from keras.datasets import imdb\n",
        "import numpy as np\n",
        "import tensorflow as tf\n",
        "import matplotlib.pyplot as plt\n",
        "import os\n",
        "import pandas as pd"
      ]
    },
    {
      "cell_type": "code",
      "source": [
        "VOCAB_SIZE = 88584\n",
        "MAX_LEN = 250\n",
        "BATCH_SIZE = 64\n",
        "\n",
        "(train_data, train_labels), (test_data, test_labels) = imdb.load_data(num_words=VOCAB_SIZE)"
      ],
      "metadata": {
        "id": "vvJLPPRi9jcR"
      },
      "execution_count": 3,
      "outputs": []
    },
    {
      "cell_type": "code",
      "source": [
        "train_data = tf.keras.preprocessing.sequence.pad_sequences(train_data, maxlen=MAX_LEN)\n",
        "test_data = tf.keras.preprocessing.sequence.pad_sequences(test_data, maxlen=MAX_LEN)"
      ],
      "metadata": {
        "id": "64F6d_8j91jY"
      },
      "execution_count": 4,
      "outputs": []
    },
    {
      "cell_type": "markdown",
      "source": [
        "#Model"
      ],
      "metadata": {
        "id": "_skuLQh--ieM"
      }
    },
    {
      "cell_type": "code",
      "source": [
        "model = tf.keras.Sequential([\n",
        "    tf.keras.layers.Embedding(VOCAB_SIZE, 32),\n",
        "    tf.keras.layers.LSTM(32),\n",
        "    tf.keras.layers.Dense(1, activation='sigmoid')\n",
        "])"
      ],
      "metadata": {
        "id": "jrdsMMlp-Wkj"
      },
      "execution_count": 5,
      "outputs": []
    },
    {
      "cell_type": "code",
      "source": [
        "model.compile(\n",
        "    optimizer='rmsprop',\n",
        "    loss='binary_crossentropy',\n",
        "    metrics=['acc']\n",
        "    )"
      ],
      "metadata": {
        "id": "8Cfr40hH-17I"
      },
      "execution_count": 6,
      "outputs": []
    },
    {
      "cell_type": "code",
      "source": [
        "history = model.fit(\n",
        "    train_data,\n",
        "    train_labels,\n",
        "    epochs=10,\n",
        "    batch_size=BATCH_SIZE,\n",
        "    validation_split=0.2\n",
        ")"
      ],
      "metadata": {
        "colab": {
          "base_uri": "https://localhost:8080/"
        },
        "id": "p-NsJD9i_K8U",
        "outputId": "56625d41-ceaf-4038-f553-72ebf639b078"
      },
      "execution_count": 7,
      "outputs": [
        {
          "output_type": "stream",
          "name": "stdout",
          "text": [
            "Epoch 1/10\n",
            "313/313 [==============================] - 49s 150ms/step - loss: 0.5157 - acc: 0.7304 - val_loss: 0.3348 - val_acc: 0.8592\n",
            "Epoch 2/10\n",
            "313/313 [==============================] - 48s 154ms/step - loss: 0.2831 - acc: 0.8880 - val_loss: 0.4395 - val_acc: 0.8490\n",
            "Epoch 3/10\n",
            "313/313 [==============================] - 46s 147ms/step - loss: 0.2066 - acc: 0.9227 - val_loss: 0.3015 - val_acc: 0.8810\n",
            "Epoch 4/10\n",
            "313/313 [==============================] - 45s 143ms/step - loss: 0.1648 - acc: 0.9418 - val_loss: 0.3092 - val_acc: 0.8858\n",
            "Epoch 5/10\n",
            "313/313 [==============================] - 45s 144ms/step - loss: 0.1345 - acc: 0.9542 - val_loss: 0.3591 - val_acc: 0.8612\n",
            "Epoch 6/10\n",
            "313/313 [==============================] - 48s 155ms/step - loss: 0.1087 - acc: 0.9628 - val_loss: 0.4769 - val_acc: 0.8380\n",
            "Epoch 7/10\n",
            "313/313 [==============================] - 45s 145ms/step - loss: 0.0902 - acc: 0.9710 - val_loss: 0.5468 - val_acc: 0.8170\n",
            "Epoch 8/10\n",
            "313/313 [==============================] - 47s 149ms/step - loss: 0.0749 - acc: 0.9769 - val_loss: 0.3966 - val_acc: 0.8630\n",
            "Epoch 9/10\n",
            "313/313 [==============================] - 45s 144ms/step - loss: 0.0623 - acc: 0.9805 - val_loss: 0.4517 - val_acc: 0.8812\n",
            "Epoch 10/10\n",
            "313/313 [==============================] - 45s 145ms/step - loss: 0.0542 - acc: 0.9834 - val_loss: 0.4666 - val_acc: 0.8776\n"
          ]
        }
      ]
    },
    {
      "cell_type": "code",
      "source": [
        "model.evaluate(test_data, test_labels)"
      ],
      "metadata": {
        "colab": {
          "base_uri": "https://localhost:8080/"
        },
        "id": "Tm7AgYNg_Ty8",
        "outputId": "5c97524e-cdb2-4fdf-d1b4-5c490a127c18"
      },
      "execution_count": 8,
      "outputs": [
        {
          "output_type": "stream",
          "name": "stdout",
          "text": [
            "782/782 [==============================] - 20s 26ms/step - loss: 0.5423 - acc: 0.8602\n"
          ]
        },
        {
          "output_type": "execute_result",
          "data": {
            "text/plain": [
              "[0.5423004031181335, 0.8601599931716919]"
            ]
          },
          "metadata": {},
          "execution_count": 8
        }
      ]
    },
    {
      "cell_type": "markdown",
      "source": [
        "#Making Pred"
      ],
      "metadata": {
        "id": "JQztsTxpCAro"
      }
    },
    {
      "cell_type": "code",
      "source": [
        "word_index = imdb.get_word_index()\n",
        "\n",
        "def encode_text(text):\n",
        "  tokens = tf.keras.preprocessing.text.text_to_word_sequence(text)\n",
        "  tokens = [word_index[word] if word in word_index else 0 for word in tokens]\n",
        "  return tf.keras.preprocessing.sequence.pad_sequences([tokens], maxlen=MAX_LEN)[0]"
      ],
      "metadata": {
        "colab": {
          "base_uri": "https://localhost:8080/"
        },
        "id": "EVZ8Z5IgCAVF",
        "outputId": "75dca183-5380-4fd5-c7b6-bd61611d88ee"
      },
      "execution_count": 9,
      "outputs": [
        {
          "output_type": "stream",
          "name": "stdout",
          "text": [
            "Downloading data from https://storage.googleapis.com/tensorflow/tf-keras-datasets/imdb_word_index.json\n",
            "1641221/1641221 [==============================] - 0s 0us/step\n"
          ]
        }
      ]
    },
    {
      "cell_type": "code",
      "source": [
        "text = \"that movie was just amazing, so amazing\"\n",
        "encoded = encode_text(text)"
      ],
      "metadata": {
        "id": "Tux37_ZmBKLg"
      },
      "execution_count": 10,
      "outputs": []
    },
    {
      "cell_type": "code",
      "source": [
        "print('Encoded text:', encoded)"
      ],
      "metadata": {
        "colab": {
          "base_uri": "https://localhost:8080/"
        },
        "id": "-bs0muEJCmhI",
        "outputId": "763de441-9f92-4a78-9544-b67e5f89cf3c"
      },
      "execution_count": 11,
      "outputs": [
        {
          "output_type": "stream",
          "name": "stdout",
          "text": [
            "Encoded text: [  0   0   0   0   0   0   0   0   0   0   0   0   0   0   0   0   0   0\n",
            "   0   0   0   0   0   0   0   0   0   0   0   0   0   0   0   0   0   0\n",
            "   0   0   0   0   0   0   0   0   0   0   0   0   0   0   0   0   0   0\n",
            "   0   0   0   0   0   0   0   0   0   0   0   0   0   0   0   0   0   0\n",
            "   0   0   0   0   0   0   0   0   0   0   0   0   0   0   0   0   0   0\n",
            "   0   0   0   0   0   0   0   0   0   0   0   0   0   0   0   0   0   0\n",
            "   0   0   0   0   0   0   0   0   0   0   0   0   0   0   0   0   0   0\n",
            "   0   0   0   0   0   0   0   0   0   0   0   0   0   0   0   0   0   0\n",
            "   0   0   0   0   0   0   0   0   0   0   0   0   0   0   0   0   0   0\n",
            "   0   0   0   0   0   0   0   0   0   0   0   0   0   0   0   0   0   0\n",
            "   0   0   0   0   0   0   0   0   0   0   0   0   0   0   0   0   0   0\n",
            "   0   0   0   0   0   0   0   0   0   0   0   0   0   0   0   0   0   0\n",
            "   0   0   0   0   0   0   0   0   0   0   0   0   0   0   0   0   0   0\n",
            "   0   0   0   0   0   0   0   0   0  12  17  13  40 477  35 477]\n"
          ]
        }
      ]
    },
    {
      "cell_type": "code",
      "source": [
        "reverse_word_index = {value: key for (key, value) in word_index.items()}\n",
        "\n",
        "def decode_integers(integers):\n",
        "  PAD = 0\n",
        "  text = \"\"\n",
        "  for num in integers:\n",
        "    if num != PAD:\n",
        "      text += reverse_word_index[num] + \" \"\n",
        "\n",
        "  return text[:-1]"
      ],
      "metadata": {
        "id": "DDZAlr_3Coj3"
      },
      "execution_count": 14,
      "outputs": []
    },
    {
      "cell_type": "code",
      "source": [
        "print('Decoded review:', decode_integers(encoded))"
      ],
      "metadata": {
        "colab": {
          "base_uri": "https://localhost:8080/"
        },
        "id": "R9Ntiq4tC8v2",
        "outputId": "ef1e804a-789b-4adc-e2bc-07059cda616a"
      },
      "execution_count": 15,
      "outputs": [
        {
          "output_type": "stream",
          "name": "stdout",
          "text": [
            "Decoded review: that movie was just amazing so amazing\n"
          ]
        }
      ]
    },
    {
      "cell_type": "code",
      "source": [
        "def predict(text):\n",
        "  encoded_text = encode_text(text)\n",
        "  pred = np.zeros((1,250))\n",
        "  pred[0] = encoded_text\n",
        "  result = model.predict(pred)\n",
        "\n",
        "  if result[0] > 0.5:\n",
        "    print('Positive review')\n",
        "  else:\n",
        "    print('Negative review')"
      ],
      "metadata": {
        "id": "R8DlI6SPC-rP"
      },
      "execution_count": 19,
      "outputs": []
    },
    {
      "cell_type": "code",
      "source": [
        "positive_review = \"That movie was so good.I really loved it, I'll recommend it to my friends\"\n",
        "predict(positive_review)"
      ],
      "metadata": {
        "colab": {
          "base_uri": "https://localhost:8080/"
        },
        "id": "F5yZ6civDm-w",
        "outputId": "e3a30bfe-ffd9-4e5d-da9f-19adaea2c899"
      },
      "execution_count": 22,
      "outputs": [
        {
          "output_type": "stream",
          "name": "stdout",
          "text": [
            "1/1 [==============================] - 0s 30ms/step\n",
            "Positive review\n"
          ]
        }
      ]
    },
    {
      "cell_type": "code",
      "source": [
        "negative_review = \"That movie was so bad\"\n",
        "predict(negative_review)"
      ],
      "metadata": {
        "colab": {
          "base_uri": "https://localhost:8080/"
        },
        "id": "GG0P3qZzDsnm",
        "outputId": "abdc6325-10a2-4615-87f2-b2567e21646e"
      },
      "execution_count": 21,
      "outputs": [
        {
          "output_type": "stream",
          "name": "stdout",
          "text": [
            "1/1 [==============================] - 0s 98ms/step\n",
            "Negative review\n"
          ]
        }
      ]
    },
    {
      "cell_type": "code",
      "source": [],
      "metadata": {
        "id": "vGebLTXCEMOd"
      },
      "execution_count": null,
      "outputs": []
    }
  ]
}